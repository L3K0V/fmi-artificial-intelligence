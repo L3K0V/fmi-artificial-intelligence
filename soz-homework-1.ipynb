{
 "cells": [
  {
   "cell_type": "markdown",
   "metadata": {},
   "source": [
    "# Автобусен маршрут\n",
    "\n",
    "Разглеждаме задачата да се състави маршрут на автобус на база натовареността на трафика. Трафикът има различна натовареност в зависимост от посоката, в която се движим.\n",
    "Времето, необходимо за достигане от точка до точка, е дадено в следващата таблица (числото, записано в клетка (i,j), задава времето за директно достигане от начална точка i до крайна точка j).\n",
    "\n",
    "Задачата е да се състави програма, която след дефиниране на стартовата и целевата точка да намира **оптималния (най-краткотрайния)** път от старта до целта. Като резултат програмата трябва да извежда на конзолата списък от последователните точки, през които минава автобусът по своя път.\n",
    "\n",
    "## Представяне\n",
    "\n",
    "Ще представим връзката между спирките на автобуса чрез асоциативен масив от двойки представляващи тегло и връзка с друга спирка."
   ]
  },
  {
   "cell_type": "code",
   "execution_count": 1,
   "metadata": {},
   "outputs": [
    {
     "name": "stdout",
     "output_type": "stream",
     "text": [
      "         1        2        3        4        5        6        7\n",
      "0   (1, 0)  (1, 23)  (1, 23)  (1, 32)  (1, 41)  (1, 54)  (1, 32)\n",
      "1  (2, 32)   (2, 0)  (2, 47)  (2, 44)  (2, 25)  (2, 32)  (2, 21)\n",
      "2  (3, 54)  (3, 44)   (3, 0)  (3, 27)  (3, 21)  (3, 36)  (3, 45)\n",
      "3  (4, 23)  (4, 47)  (4, 55)   (4, 0)  (4, 14)  (4, 12)  (4, 23)\n",
      "4  (5, 14)  (5, 21)  (5, 34)  (5, 22)   (5, 0)  (5, 32)  (5, 37)\n",
      "5  (6, 27)  (6, 14)  (6, 51)  (6, 37)  (6, 12)   (6, 0)  (6, 11)\n",
      "6  (7, 22)  (7, 19)  (7, 12)  (7, 53)  (7, 34)  (7, 27)   (7, 0)\n"
     ]
    }
   ],
   "source": [
    "import pandas as pd\n",
    "from queue import PriorityQueue\n",
    "\n",
    "graph = {\n",
    "    '1' : [('1', 0), ('2', 32), ('3', 54), ('4', 23), ('5', 14), ('6', 27), ('7', 22)],\n",
    "    '2' : [('1', 23), ('2', 0), ('3', 44), ('4', 47), ('5', 21), ('6', 14), ('7', 19)],\n",
    "    '3' : [('1', 23), ('2', 47), ('3', 0), ('4', 55), ('5', 34), ('6', 51), ('7', 12)],\n",
    "    '4' : [('1', 32), ('2', 44), ('3', 27), ('4', 0), ('5', 22), ('6', 37), ('7', 53)],\n",
    "    '5' : [('1', 41), ('2', 25), ('3', 21), ('4', 14), ('5', 0), ('6', 12), ('7', 34)],\n",
    "    '6' : [('1', 54), ('2', 32), ('3', 36), ('4', 12), ('5', 32), ('6', 0), ('7', 27)],\n",
    "    '7' : [('1', 32), ('2', 21), ('3', 45), ('4', 23), ('5', 37), ('6', 11), ('7', 0)]\n",
    "}\n",
    "\n",
    "print(pd.DataFrame(graph))"
   ]
  },
  {
   "cell_type": "markdown",
   "metadata": {},
   "source": [
    "## Алгоритъм\n",
    "\n",
    "По условие имаме зададени тежести за маршрутите между спирките и връзките между тях. Това означава, че можем да използваме Uniform-Cost-Search алгоритъм за да намерим пътя между две точки използвайки теглата. Този алгоритъм е пълен и оптимален.\n",
    "\n",
    "Сложността му по време е същата като сложността му по памет и е O(b на степен 1 + [c*/e]), където C* - горната граница на цената на пътя до целта."
   ]
  },
  {
   "cell_type": "code",
   "execution_count": 17,
   "metadata": {},
   "outputs": [],
   "source": [
    "def ucs(graph, start, goal):\n",
    "    visited = set()\n",
    "    queue = PriorityQueue()\n",
    "    queue.put((0, start))\n",
    "    \n",
    "    parents = {} \n",
    "\n",
    "    while queue:\n",
    "        cost, node = queue.get()        \n",
    "        if node not in visited:\n",
    "            visited.add(node)\n",
    "                    \n",
    "            if node == goal:\n",
    "                path_to_goal = [goal]\n",
    "                prev_node = node\n",
    "                \n",
    "                print(parents)\n",
    "                \n",
    "                while prev_node != start:\n",
    "                    parent = parents[prev_node]\n",
    "                    path_to_goal.append(parent)   \n",
    "                    prev_node = parent\n",
    "\n",
    "                path_to_goal.reverse()\n",
    "                return path_to_goal \n",
    "            \n",
    "            for i in graph[node]:\n",
    "                if i not in visited:\n",
    "                    if i[1] > 0:\n",
    "                        total_cost = cost + i[1]        \n",
    "                        parents[i[0]] = node[0]\n",
    "                        queue.put((total_cost, i[0]))"
   ]
  },
  {
   "cell_type": "code",
   "execution_count": 18,
   "metadata": {},
   "outputs": [
    {
     "name": "stdout",
     "output_type": "stream",
     "text": [
      "{'1': '6', '2': '6', '3': '6', '4': '6', '5': '6', '7': '6'}\n"
     ]
    },
    {
     "data": {
      "text/plain": [
       "['6', '4']"
      ]
     },
     "execution_count": 18,
     "metadata": {},
     "output_type": "execute_result"
    }
   ],
   "source": [
    "ucs(graph, '6', '4')"
   ]
  },
  {
   "cell_type": "code",
   "execution_count": 19,
   "metadata": {},
   "outputs": [
    {
     "name": "stdout",
     "output_type": "stream",
     "text": [
      "{'1': '6', '2': '6', '3': '6', '4': '6', '6': '5', '7': '6', '5': '6'}\n"
     ]
    },
    {
     "data": {
      "text/plain": [
       "['5', '6', '4']"
      ]
     },
     "execution_count": 19,
     "metadata": {},
     "output_type": "execute_result"
    }
   ],
   "source": [
    "ucs(graph, '5', '4')"
   ]
  },
  {
   "cell_type": "code",
   "execution_count": null,
   "metadata": {},
   "outputs": [],
   "source": []
  }
 ],
 "metadata": {
  "kernelspec": {
   "display_name": "Python 3",
   "language": "python",
   "name": "python3"
  },
  "language_info": {
   "codemirror_mode": {
    "name": "ipython",
    "version": 3
   },
   "file_extension": ".py",
   "mimetype": "text/x-python",
   "name": "python",
   "nbconvert_exporter": "python",
   "pygments_lexer": "ipython3",
   "version": "3.6.3"
  }
 },
 "nbformat": 4,
 "nbformat_minor": 2
}
