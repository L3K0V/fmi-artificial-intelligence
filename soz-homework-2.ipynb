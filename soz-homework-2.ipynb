{
 "cells": [
  {
   "cell_type": "code",
   "execution_count": null,
   "metadata": {},
   "outputs": [],
   "source": [
    "POPULATION_SIZE = 100\n",
    "REPRODUCTION_SIZE = 20\n",
    "MUTATION_RATE = REPRODUCTION_SIZE / 4\n",
    "\n",
    "CSV_FILE_NAME = 'schedule.csv'\n",
    "BUS_STOPS = 7"
   ]
  },
  {
   "cell_type": "code",
   "execution_count": null,
   "metadata": {},
   "outputs": [],
   "source": [
    "import csv\n",
    "import numpy as np\n",
    "\n",
    "from matplotlib.pyplot import imshow\n",
    "from PIL import Image\n",
    "from random import randint, sample\n",
    "from queue import PriorityQueue\n",
    "\n",
    "%matplotlib inline"
   ]
  },
  {
   "cell_type": "code",
   "execution_count": null,
   "metadata": {},
   "outputs": [],
   "source": [
    "schedule = []\n",
    "\n",
    "with open('soz-homework-2-schedule.csv', newline='') as csvfile:\n",
    "    schedule_reader = csv.reader(csvfile, delimiter=';')\n",
    "    for row in schedule_reader:\n",
    "        array = list(int(x) for x in row)\n",
    "        schedule.append(array)\n",
    "        \n",
    "    schedule_np = np.matrix(schedule)\n",
    "    print(schedule_np)"
   ]
  },
  {
   "cell_type": "code",
   "execution_count": null,
   "metadata": {},
   "outputs": [],
   "source": [
    "imshow(schedule)"
   ]
  },
  {
   "cell_type": "code",
   "execution_count": null,
   "metadata": {},
   "outputs": [],
   "source": [
    "def swap(current, first, second):\n",
    "    current[first], current[second] = current[second], current[first]\n",
    "    return list(current)\n",
    "\n",
    "def random_path(start, to):\n",
    "    stops = randint(2, BUS_STOPS - 1)\n",
    "    \n",
    "    if stops == 2:\n",
    "        return [start, to]\n",
    "    else:\n",
    "        gen_path = sample(range(1, BUS_STOPS), stops)\n",
    "        \n",
    "        if start in gen_path:\n",
    "            gen_path.remove(start)\n",
    "        if to in gen_path:\n",
    "            gen_path.remove(to)\n",
    "        return [start] + gen_path + [to]\n",
    "    \n",
    "def get_path_cost(path):    \n",
    "    indexes = [i - 1 for i in path]\n",
    "    splits = zip(indexes, indexes[1::])\n",
    "    return sum([schedule_np.item(split) for split in splits])\n",
    "        "
   ]
  },
  {
   "cell_type": "code",
   "execution_count": null,
   "metadata": {},
   "outputs": [],
   "source": [
    "path = random_path(2,6)\n",
    "\n",
    "print('Path: ', path, ' with cost of ', get_path_cost(path))"
   ]
  },
  {
   "cell_type": "code",
   "execution_count": null,
   "metadata": {},
   "outputs": [],
   "source": [
    "def make_population(start, to):\n",
    "    \n",
    "    queue = PriorityQueue()    \n",
    "    \n",
    "    def _cost_with_path(start, to):\n",
    "        path = random_path(start, to)\n",
    "        return (get_path_cost(path), path)\n",
    "    \n",
    "    for p in range(POPULATION_SIZE):\n",
    "        queue.put(_cost_with_path(start, to))\n",
    "        \n",
    "    return queue\n",
    "        \n",
    "def make_selection(population):\n",
    "    population = population.queue\n",
    "    \n",
    "    slice_index = randint(0, POPULATION_SIZE - REPRODUCTION_SIZE)    \n",
    "    selection = population[:slice_index + REPRODUCTION_SIZE]\n",
    "    \n",
    "    return selection\n",
    "\n",
    "def make_crossover(selection):\n",
    "    for c in range(0, REPRODUCTION_SIZE):\n",
    "        \n",
    "        first = None\n",
    "        second = None\n",
    "        same = True\n",
    "        while same:\n",
    "            first = selection[randint(0, len(selection) - 1)]\n",
    "            second = selection[randint(0, len(selection) - 1)]\n",
    "            same = first == second\n",
    "        \n",
    "        if len(first[1]) > 2 and len(second[1]) > 2:\n",
    "            slice_index = randint(1, min(len(first[1]), len(second[1])) - 2)\n",
    "            print('slicing at ', slice_index, ' of ', first, ' - ', second)"
   ]
  },
  {
   "cell_type": "code",
   "execution_count": null,
   "metadata": {},
   "outputs": [],
   "source": [
    "# 1 to 3 is a good example for searching path\n",
    "q = make_population(1, 3)\n",
    "s = make_selection(q)\n",
    "make_crossover(s)"
   ]
  },
  {
   "cell_type": "code",
   "execution_count": null,
   "metadata": {},
   "outputs": [],
   "source": []
  }
 ],
 "metadata": {
  "kernelspec": {
   "display_name": "Python 3",
   "language": "python",
   "name": "python3"
  },
  "language_info": {
   "codemirror_mode": {
    "name": "ipython",
    "version": 3
   },
   "file_extension": ".py",
   "mimetype": "text/x-python",
   "name": "python",
   "nbconvert_exporter": "python",
   "pygments_lexer": "ipython3",
   "version": "3.6.3"
  }
 },
 "nbformat": 4,
 "nbformat_minor": 2
}
