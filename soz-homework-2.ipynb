{
 "cells": [
  {
   "cell_type": "code",
   "execution_count": 92,
   "metadata": {},
   "outputs": [],
   "source": [
    "POPULATION_SIZE = 100\n",
    "REPRODUCTION_SIZE = 20\n",
    "HEURISTIC_MUTATION = False\n",
    "\n",
    "CSV_FILE_NAME = 'schedule.csv'\n",
    "BUS_STOPS = 7"
   ]
  },
  {
   "cell_type": "code",
   "execution_count": 93,
   "metadata": {},
   "outputs": [],
   "source": [
    "import csv\n",
    "import numpy as np\n",
    "\n",
    "from matplotlib.pyplot import imshow\n",
    "from PIL import Image\n",
    "from random import randint, sample\n",
    "\n",
    "%matplotlib inline"
   ]
  },
  {
   "cell_type": "code",
   "execution_count": 94,
   "metadata": {},
   "outputs": [
    {
     "name": "stdout",
     "output_type": "stream",
     "text": [
      "[[ 0 32 54 23 14 27 22]\n",
      " [23  0 44 47 21 14 19]\n",
      " [23 47  0 55 34 51 12]\n",
      " [32 44 27  0 22 37 53]\n",
      " [41 25 21 14  0 12 34]\n",
      " [54 32 36 12 32  0 27]\n",
      " [32 21 45 23 37 11  0]]\n"
     ]
    }
   ],
   "source": [
    "schedule = []\n",
    "\n",
    "with open('soz-homework-2-schedule.csv', newline='') as csvfile:\n",
    "    schedule_reader = csv.reader(csvfile, delimiter=';')\n",
    "    for row in schedule_reader:\n",
    "        array = list(int(x) for x in row)\n",
    "        schedule.append(array)\n",
    "        \n",
    "    schedule_np = np.matrix(schedule)\n",
    "    print(schedule_np)"
   ]
  },
  {
   "cell_type": "code",
   "execution_count": 95,
   "metadata": {},
   "outputs": [
    {
     "data": {
      "text/plain": [
       "<matplotlib.image.AxesImage at 0x114483048>"
      ]
     },
     "execution_count": 95,
     "metadata": {},
     "output_type": "execute_result"
    },
    {
     "data": {
      "image/png": "[encoded data removed]",
      "text/plain": [
       "<matplotlib.figure.Figure at 0x11440b860>"
      ]
     },
     "metadata": {},
     "output_type": "display_data"
    }
   ],
   "source": [
    "imshow(schedule)"
   ]
  },
  {
   "cell_type": "code",
   "execution_count": 111,
   "metadata": {},
   "outputs": [],
   "source": [
    "def random_path(start, to):\n",
    "    path = []\n",
    "    stops = randint(2, BUS_STOPS -1)\n",
    "    \n",
    "    path.append(start)\n",
    "    \n",
    "    if stops == 2:\n",
    "        path.append(to)\n",
    "        return path\n",
    "    else:\n",
    "        path = path + sample(range(1, BUS_STOPS), stops)\n",
    "        path.append(to)\n",
    "        return path"
   ]
  },
  {
   "cell_type": "code",
   "execution_count": 112,
   "metadata": {},
   "outputs": [
    {
     "name": "stdout",
     "output_type": "stream",
     "text": [
      "[2, 5, 1, 3, 2, 5]\n",
      "[2, 5, 1, 2, 4, 3, 5]\n",
      "[2, 3, 5, 6, 2, 1, 5]\n",
      "[1, 6]\n"
     ]
    }
   ],
   "source": [
    "print(random_path(2, 5))\n",
    "print(random_path(2, 5))\n",
    "print(random_path(2, 5))\n",
    "print(random_path(1, 6))"
   ]
  },
  {
   "cell_type": "code",
   "execution_count": null,
   "metadata": {},
   "outputs": [],
   "source": []
  }
 ],
 "metadata": {
  "kernelspec": {
   "display_name": "Python 3",
   "language": "python",
   "name": "python3"
  },
  "language_info": {
   "codemirror_mode": {
    "name": "ipython",
    "version": 3
   },
   "file_extension": ".py",
   "mimetype": "text/x-python",
   "name": "python",
   "nbconvert_exporter": "python",
   "pygments_lexer": "ipython3",
   "version": "3.6.3"
  }
 },
 "nbformat": 4,
 "nbformat_minor": 2
}
