{
 "cells": [
  {
   "cell_type": "markdown",
   "metadata": {},
   "source": [
    "# N-царици - MinConflicts\n",
    "\n",
    "Разположете N царици на дъска NxN, така че да не се бият. \n",
    "\n",
    "Използвайте алгоритъма MinConflicts за решение на задачата.\n",
    "\n",
    "Изискване - да работи за N=10 000 (при решаването на задачата със DFS, задачата не върви за N по-голямо от 100); \n",
    "\n",
    "Вход: цяло число N - броя на цариците, които да се разположат. \n",
    "Изход: изведете на стандартния изход игралната дъска като обозначите царица със * а празна клетка със _"
   ]
  },
  {
   "cell_type": "code",
   "execution_count": 14,
   "metadata": {},
   "outputs": [
    {
     "name": "stdout",
     "output_type": "stream",
     "text": [
      "____*___\n",
      "_*______\n",
      "_____*__\n",
      "*_______\n",
      "______*_\n",
      "___*____\n",
      "_______*\n",
      "__*_____\n"
     ]
    }
   ],
   "source": [
    "import random\n",
    "\n",
    "def nqueens(nr):\n",
    "    show(min_conflicts(list(range(nr)), nr), nr)\n",
    "\n",
    "def show(soln, nr):\n",
    "    for i in range(nr):\n",
    "        row = ['_'] * nr\n",
    "        for col in range(nr):\n",
    "            if soln[col] == nr - 1 - i:\n",
    "                row[col] = '*'\n",
    "        print(''.join(row))\n",
    "\n",
    "def min_conflicts(soln, nr, iters=1000):\n",
    "    def _random_pos(li, filt):\n",
    "        return random.choice([i for i in range(nr) if filt(li[i])])\n",
    "\n",
    "    for k in range(iters):\n",
    "        confs = find_conflicts(soln, nr)\n",
    "        if sum(confs) == 0:\n",
    "            return soln\n",
    "        col = _random_pos(confs, lambda elt: elt > 0)\n",
    "        vconfs = [hits(soln, nr, col, row) for row in range(nr)]\n",
    "        soln[col] = _random_pos(vconfs, lambda elt: elt == min(vconfs))\n",
    "    raise Exception(\"Incomplete solution: try more iterations.\")\n",
    "\n",
    "def find_conflicts(soln, nr):\n",
    "    return [hits(soln, nr, col, soln[col]) for col in range(nr)]\n",
    "\n",
    "def hits(soln, nr, col, row):\n",
    "    total = 0\n",
    "    for i in range(nr):\n",
    "        if i == col:\n",
    "            continue\n",
    "        if soln[i] == row or abs(i - col) == abs(soln[i] - row):\n",
    "            total += 1\n",
    "    return total\n",
    "\n",
    "nqueens(8)"
   ]
  }
 ],
 "metadata": {
  "kernelspec": {
   "display_name": "Python 3",
   "language": "python",
   "name": "python3"
  },
  "language_info": {
   "codemirror_mode": {
    "name": "ipython",
    "version": 3
   },
   "file_extension": ".py",
   "mimetype": "text/x-python",
   "name": "python",
   "nbconvert_exporter": "python",
   "pygments_lexer": "ipython3",
   "version": "3.6.3"
  }
 },
 "nbformat": 4,
 "nbformat_minor": 2
}
