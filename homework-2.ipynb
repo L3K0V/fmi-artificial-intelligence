{
 "cells": [
  {
   "cell_type": "markdown",
   "metadata": {},
   "source": [
    "# Домашно №2 (Sliding Blocks)\n",
    "Играта започва с дъска, състояща се от плочки с номера от 1 до N и една празна плочка, представена с цифрата 0. Целта е да се наредят плочките в съответствие с техните номера. Местенето се извършва, като на мястото на празната точка могат да се преместят плочки отгоре, отдолу, отляво и отдясно. \n",
    "\n",
    "На входа се подава число N - броя на плочките с номера, и след това се въвежда подредбата на дъската. С помощта на алгоритъма А* и евристиката \"разстояние на Манхатън\" да се изведе.\n",
    "\n",
    "0. На първият ред дължината на пътя от началото до целевото състояние.\n",
    "0. Съответните стъпки (на нов ред за всяка една), които се извършват за да се стигне до крайното състояние. Стъпките са left, right, up и down\n",
    "\n",
    "**Примерен вход:**\n",
    "```\n",
    "8\n",
    "1 2 3\n",
    "4 5 6\n",
    "0 7 8\n",
    "```\n",
    "\n",
    "**Примерен изход:**\n",
    "```\n",
    "2\n",
    "left\n",
    "left\n",
    "```"
   ]
  },
  {
   "cell_type": "code",
   "execution_count": 53,
   "metadata": {},
   "outputs": [
    {
     "name": "stdout",
     "output_type": "stream",
     "text": [
      "can be solved = True and it's solution is = [8, 1, 2, 3, 4, 5, 6, 7, 0]\n"
     ]
    }
   ],
   "source": [
    "array = [1,2,3,4,5,6,0,7,8]\n",
    "\n",
    "def mergeSort(A):\n",
    "    if len(A)>1:\n",
    "        x1, x2 = divide(A)\n",
    "        x1, leftInv = mergeSort(x1)\n",
    "        x2, rightInv = mergeSort(x2)\n",
    "        merged, splitInv = merge(x1,x2)\n",
    "        return merged, (leftInv + rightInv + splitInv)\n",
    "    else:\n",
    "        return A, 0\n",
    "\n",
    "def divide(A):\n",
    "    return A[:int(len(A)/2)], A[int(len(A)/2):]\n",
    "\n",
    "def merge(x1,x2):\n",
    "    x=[]\n",
    "    x1Index=0\n",
    "    x2Index=0\n",
    "    invCount=0\n",
    "    size1=len(x1)\n",
    "    size2=len(x2)\n",
    "    while ( x1Index < size1 and x2Index < size2):\n",
    "        if x1[x1Index]<=x2[x2Index]:\n",
    "            x.append(x1[x1Index])\n",
    "            x1Index=x1Index+1\n",
    "        else:\n",
    "            x.append(x2[x2Index])\n",
    "            x2Index=x2Index+1\n",
    "            invCount += (size1-x1Index)\n",
    "\n",
    "    for i in range(x1Index,size1):\n",
    "         x.append(x1[i])\n",
    "\n",
    "    for i in range(x2Index,size2):\n",
    "         x.append(x2[i])\n",
    "\n",
    "    return x,invCount\n",
    "\n",
    "def check_puzzle(configuration):\n",
    "    array, inv = mergeSort(configuration)\n",
    "    \n",
    "    # Move zero at the end\n",
    "    array[0],array[-1] = array[-1],array[0]\n",
    "    \n",
    "    return not inv % 2, array\n",
    "\n",
    "\n",
    "solvable, solution = check_puzzle(array)\n",
    "\n",
    "print('can be solved =', solvable, \"and it's solution is =\", solution)\n",
    "    "
   ]
  },
  {
   "cell_type": "code",
   "execution_count": null,
   "metadata": {},
   "outputs": [],
   "source": []
  }
 ],
 "metadata": {
  "kernelspec": {
   "display_name": "Python 3",
   "language": "python",
   "name": "python3"
  },
  "language_info": {
   "codemirror_mode": {
    "name": "ipython",
    "version": 3
   },
   "file_extension": ".py",
   "mimetype": "text/x-python",
   "name": "python",
   "nbconvert_exporter": "python",
   "pygments_lexer": "ipython3",
   "version": "3.6.3"
  }
 },
 "nbformat": 4,
 "nbformat_minor": 2
}
