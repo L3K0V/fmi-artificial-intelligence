{
 "cells": [
  {
   "cell_type": "markdown",
   "metadata": {},
   "source": [
    "# Генетични алгоритми\n",
    "В туристическа раница могат да се натоварят до 5 кг (включително) багаж\n",
    "без тя да се скъса. Турист разполага с N предмета (екипировка и лични вещи),\n",
    "които иска да събере в раницата. Всеки предмет има тегло и стойност колко важен\n",
    "е за туриста съответният предмет.\n",
    "Да се намерят кои предмети да вземе в раницата туриста, според:\n",
    "\n",
    "$max=\\sum_{i=0}^\\infty v_ix_i$ подлежащи на $\\sum_{i=0}^n w_ix_i <= W$ където $X_i\\in [0,1]$"
   ]
  },
  {
   "cell_type": "code",
   "execution_count": null,
   "metadata": {},
   "outputs": [],
   "source": []
  }
 ],
 "metadata": {
  "kernelspec": {
   "display_name": "Python 3",
   "language": "python",
   "name": "python3"
  },
  "language_info": {
   "codemirror_mode": {
    "name": "ipython",
    "version": 3
   },
   "file_extension": ".py",
   "mimetype": "text/x-python",
   "name": "python",
   "nbconvert_exporter": "python",
   "pygments_lexer": "ipython3",
   "version": "3.6.3"
  }
 },
 "nbformat": 4,
 "nbformat_minor": 2
}
