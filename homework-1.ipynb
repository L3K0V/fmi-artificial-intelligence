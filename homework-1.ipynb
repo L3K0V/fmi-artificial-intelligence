{
 "cells": [
  {
   "attachments": {},
   "cell_type": "markdown",
   "metadata": {},
   "source": [
    "# Домашно №1 (Игра с жаби)\n",
    "\n",
    "Играта разполага с игрално поле от 2N+1 полета, като в началото в най-десните N полета имаме разположени жаби, гледащи наляво, а в най-левите полета - жаби, гледащи надясно. Целта на играта е жабите да си разменят местата и да се стигне до противоположната конфигурация.\n",
    "\n",
    "Правилата за игра са следните: всяка жаба може да се движи само в посоката, която гледа. Всяка жаба може да скочи на свободно място пред себе си или да прескочи една жаба, за да отиде на празно място пред нея.\n",
    "\n",
    "Използвайте търсене в дълбочина, за да реализирате програма решаваща пъзела.\n",
    "\n",
    "**Вход:** N – броят на жабите гледащи в една посока\n",
    "**Изход:** всички конфигурации, през които се минава за да се стигне от началното до финалното състояние.\n",
    "\n",
    "**Примерен вход:**\n",
    "```\n",
    "2\n",
    "```\n",
    "\n",
    "**Примерен Изход:**\n",
    "```\n",
    ">>_<<\n",
    ">_><<\n",
    "><>_<\n",
    "><><_\n",
    "><_<> \n",
    "_<><> \n",
    "<_><> \n",
    "<<>_> \n",
    "<<_>>\n",
    "```"
   ]
  },
  {
   "cell_type": "code",
   "execution_count": 290,
   "metadata": {
    "scrolled": false
   },
   "outputs": [],
   "source": [
    "from collections import deque\n",
    "\n",
    "def swap(current, first, second):\n",
    "    current = list(current)\n",
    "    current[first], current[second] = current[second], current[first]\n",
    "    return ''.join(current)  \n",
    "\n",
    "def valid_moves(current):\n",
    "    length = len(current)\n",
    "    empty = current.find('_')\n",
    "    \n",
    "    moves = set()\n",
    "    \n",
    "    if (empty >= 2) and current[empty - 2] != '<':\n",
    "        moves.add(swap(current, empty - 2, empty))\n",
    "\n",
    "    if (empty >= 1) and current[empty - 1] != '<':\n",
    "        moves.add(swap(current, empty - 1, empty))\n",
    "\n",
    "    if (empty < length - 1) and current[empty + 1] != '>':\n",
    "        moves.add(swap(current, empty + 1, empty))\n",
    "\n",
    "    if (empty < length - 2) and current[empty + 2] != '>':\n",
    "        moves.add(swap(current, empty + 2, empty))\n",
    "        \n",
    "    return moves\n",
    "    \n",
    "\n",
    "def solve(size):\n",
    "    start = '>' * int(size) + '_' + '<' * int(size)\n",
    "    solution = '<' * int(size) + '_' + '>' * int(size)\n",
    "    \n",
    "    stack = deque([(start, [start])])\n",
    "    path = []\n",
    "\n",
    "    while stack:   \n",
    "        (vertex, path) = stack.popleft()\n",
    "        empty = vertex.find('_')\n",
    "        \n",
    "        for next in valid_moves(vertex) - set(path):\n",
    "            if next == solution:\n",
    "                yield path + [next]\n",
    "            else:\n",
    "                stack.appendleft((next, path + [next]))"
   ]
  },
  {
   "cell_type": "code",
   "execution_count": 291,
   "metadata": {
    "scrolled": false
   },
   "outputs": [
    {
     "data": {
      "text/plain": [
       "['>>_<<',\n",
       " '>_><<',\n",
       " '><>_<',\n",
       " '><><_',\n",
       " '><_<>',\n",
       " '_<><>',\n",
       " '<_><>',\n",
       " '<<>_>',\n",
       " '<<_>>']"
      ]
     },
     "execution_count": 291,
     "metadata": {},
     "output_type": "execute_result"
    }
   ],
   "source": [
    "next(solve(2))"
   ]
  },
  {
   "cell_type": "code",
   "execution_count": null,
   "metadata": {},
   "outputs": [],
   "source": []
  }
 ],
 "metadata": {
  "kernelspec": {
   "display_name": "Python 3",
   "language": "python",
   "name": "python3"
  },
  "language_info": {
   "codemirror_mode": {
    "name": "ipython",
    "version": 3
   },
   "file_extension": ".py",
   "mimetype": "text/x-python",
   "name": "python",
   "nbconvert_exporter": "python",
   "pygments_lexer": "ipython3",
   "version": "3.6.3"
  }
 },
 "nbformat": 4,
 "nbformat_minor": 2
}
